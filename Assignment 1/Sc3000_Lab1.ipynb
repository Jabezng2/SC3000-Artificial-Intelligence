{
  "cells": [
    {
      "cell_type": "markdown",
      "source": [
        "<a target=\"_blank\" href=\"https://colab.research.google.com/drive/14sdWdKM1VsoN_ca65BIlPVhpmEBWh4mb\">\n",
        "  <img src=\"https://colab.research.google.com/assets/colab-badge.svg\" alt=\"Open In Colab\"/>\n",
        "</a>"
      ],
      "metadata": {
        "id": "k2fe97wDz5T3"
      }
    },
    {
      "cell_type": "markdown",
      "source": [
        "<h1>SC3000 Lab Assignment 1: \"Balancing a pole on a cart\"<h1>\n",
        "\n",
        "\n"
      ],
      "metadata": {
        "id": "BQ3s2c7GT-C7"
      }
    },
    {
      "cell_type": "markdown",
      "source": [
        "## Team Contribution (A33)"
      ],
      "metadata": {
        "id": "DRUzv4VXRZJO"
      }
    },
    {
      "cell_type": "markdown",
      "source": [
        "|<h4>Name</h4>|<h4>Matriculation Number</h4>|<h4>Contribution</h4>|\n",
        "|:-|:-:|:-|\n",
        "|<h4>Lim Jun Hern</h4> |<h4>U2120981B</h4>| <ul><li>Debugging and testing</li><p></p><li>Optimize and improve the code structure</li><p></p><li>Create and refine explanations for each block</li><ul>     \n",
        "|<h4>Jabez Ng Yong Xin</h4> |<h4>U2120757D</h4>| <ul><li>Create and Digitalize Simulation Function</li><p></p><li>Optimize Performance by finetuning parameters</li><p></p><li>Create and refine explanations for each block</li></ul>\n",
        "|<h4>Leong Hong Yi</h4>|<h4>U2120932C</h4>| <ul><li>Implement Q-Learning Algorithm</li><p></p><li>Optimize Performance by finetuning parameters</li><p></p><li>Create and refine explanations for each block</li><ul>\n",
        "\n"
      ],
      "metadata": {
        "id": "TZx6QWrIH0-w"
      }
    },
    {
      "cell_type": "markdown",
      "metadata": {
        "id": "wuHGgVlDIUHv"
      },
      "source": [
        "<div><h2>Installing Dependencies:</h2></div>"
      ]
    },
    {
      "cell_type": "code",
      "execution_count": 1,
      "metadata": {
        "colab": {
          "base_uri": "https://localhost:8080/"
        },
        "id": "aZHuzLOUH_LS",
        "outputId": "82fd454d-98e9-4cf8-8b08-550adaf25621"
      },
      "outputs": [
        {
          "output_type": "stream",
          "name": "stdout",
          "text": [
            "Looking in indexes: https://pypi.org/simple, https://us-python.pkg.dev/colab-wheels/public/simple/\n",
            "Requirement already satisfied: gym[classic_control] in /usr/local/lib/python3.9/dist-packages (0.25.2)\n",
            "Requirement already satisfied: gym-notices>=0.0.4 in /usr/local/lib/python3.9/dist-packages (from gym[classic_control]) (0.0.8)\n",
            "Requirement already satisfied: numpy>=1.18.0 in /usr/local/lib/python3.9/dist-packages (from gym[classic_control]) (1.24.2)\n",
            "Requirement already satisfied: importlib-metadata>=4.8.0 in /usr/local/lib/python3.9/dist-packages (from gym[classic_control]) (6.0.0)\n",
            "Requirement already satisfied: cloudpickle>=1.2.0 in /usr/local/lib/python3.9/dist-packages (from gym[classic_control]) (2.2.1)\n",
            "Collecting pygame==2.1.0\n",
            "  Downloading pygame-2.1.0-cp39-cp39-manylinux_2_17_x86_64.manylinux2014_x86_64.whl (18.3 MB)\n",
            "\u001b[2K     \u001b[90m━━━━━━━━━━━━━━━━━━━━━━━━━━━━━━━━━━━━━━━━\u001b[0m \u001b[32m18.3/18.3 MB\u001b[0m \u001b[31m14.9 MB/s\u001b[0m eta \u001b[36m0:00:00\u001b[0m\n",
            "\u001b[?25hRequirement already satisfied: zipp>=0.5 in /usr/local/lib/python3.9/dist-packages (from importlib-metadata>=4.8.0->gym[classic_control]) (3.15.0)\n",
            "Installing collected packages: pygame\n",
            "Successfully installed pygame-2.1.0\n",
            "Looking in indexes: https://pypi.org/simple, https://us-python.pkg.dev/colab-wheels/public/simple/\n",
            "Requirement already satisfied: setuptools in /usr/local/lib/python3.9/dist-packages (63.4.3)\n",
            "Collecting setuptools\n",
            "  Downloading setuptools-67.6.0-py3-none-any.whl (1.1 MB)\n",
            "\u001b[2K     \u001b[90m━━━━━━━━━━━━━━━━━━━━━━━━━━━━━━━━━━━━━━━━\u001b[0m \u001b[32m1.1/1.1 MB\u001b[0m \u001b[31m17.9 MB/s\u001b[0m eta \u001b[36m0:00:00\u001b[0m\n",
            "\u001b[?25hInstalling collected packages: setuptools\n",
            "  Attempting uninstall: setuptools\n",
            "    Found existing installation: setuptools 63.4.3\n",
            "    Uninstalling setuptools-63.4.3:\n",
            "      Successfully uninstalled setuptools-63.4.3\n",
            "\u001b[31mERROR: pip's dependency resolver does not currently take into account all the packages that are installed. This behaviour is the source of the following dependency conflicts.\n",
            "ipython 7.9.0 requires jedi>=0.10, which is not installed.\n",
            "numba 0.56.4 requires numpy<1.24,>=1.18, but you have numpy 1.24.2 which is incompatible.\n",
            "cvxpy 1.3.0 requires setuptools<=64.0.2, but you have setuptools 67.6.0 which is incompatible.\u001b[0m\u001b[31m\n",
            "\u001b[0mSuccessfully installed setuptools-67.6.0\n"
          ]
        }
      ],
      "source": [
        "!apt-get install -y xvfb python-opengl > /dev/null 2>&1\n",
        "!pip install gym pyvirtualdisplay > /dev/null 2>&1\n",
        "!pip install gym pyvirtualdisplay > /dev/null 2>&1\n",
        "!apt-get install -y xvfb python-opengl ffmpeg > /dev/null 2>&1\n",
        "!pip install gym[classic_control]\n",
        "!apt-get update > /dev/null 2>&1\n",
        "!apt-get install cmake > /dev/null 2>&1\n",
        "!pip install --upgrade setuptools 2>&1\n",
        "!pip install ez_setup > /dev/null 2>&1"
      ]
    },
    {
      "cell_type": "markdown",
      "metadata": {
        "id": "gGRN1hnWIjqk"
      },
      "source": [
        "## Importing dependencies and define helper functions"
      ]
    },
    {
      "cell_type": "code",
      "execution_count": 2,
      "metadata": {
        "id": "viO62FA-IlRf",
        "colab": {
          "base_uri": "https://localhost:8080/"
        },
        "outputId": "65f94a19-1df0-4c55-f41c-809d659edd34"
      },
      "outputs": [
        {
          "output_type": "stream",
          "name": "stderr",
          "text": [
            "/usr/local/lib/python3.9/dist-packages/tensorflow/python/framework/dtypes.py:246: DeprecationWarning: `np.bool8` is a deprecated alias for `np.bool_`.  (Deprecated NumPy 1.24)\n",
            "  np.bool8: (False, True),\n"
          ]
        }
      ],
      "source": [
        "import gym\n",
        "from gym import logger as gymlogger\n",
        "from gym.wrappers import RecordVideo\n",
        "gymlogger.set_level(40) #error only\n",
        "import tensorflow as tf\n",
        "import numpy as np\n",
        "import pandas as pd\n",
        "import random\n",
        "import matplotlib\n",
        "import matplotlib.pyplot as plt\n",
        "%matplotlib inline\n",
        "import math\n",
        "import glob\n",
        "import io\n",
        "import base64\n",
        "from IPython.display import HTML\n",
        "from IPython import display as ipythondisplay\n",
        "\n",
        "def show_video():\n",
        "  mp4list = glob.glob('video/*.mp4')\n",
        "  if len(mp4list) > 0:\n",
        "    mp4 = mp4list[0]\n",
        "    video = io.open(mp4, 'r+b').read()\n",
        "    encoded = base64.b64encode(video)\n",
        "    ipythondisplay.display(HTML(data='''<video alt=\"test\" autoplay \n",
        "                loop controls style=\"height: 400px;\">\n",
        "                <source src=\"data:video/mp4;base64,{0}\" type=\"video/mp4\" />\n",
        "             </video>'''.format(encoded.decode('ascii'))))\n",
        "  else: \n",
        "    print(\"Could not find video\")"
      ]
    },
    {
      "cell_type": "markdown",
      "metadata": {
        "id": "kSaee0cfIqpg"
      },
      "source": [
        "##Loading CartPole environment"
      ]
    },
    {
      "cell_type": "code",
      "execution_count": 3,
      "metadata": {
        "id": "gCY_qyXyIvee"
      },
      "outputs": [],
      "source": [
        "env = gym.make(\"CartPole-v1\")"
      ]
    },
    {
      "cell_type": "markdown",
      "metadata": {
        "id": "QLuLhSopI4N3"
      },
      "source": [
        "<div class=\"alert alert-block alert-info\"><h2>Task 1: Development of an Rl agent</h2></div>\n"
      ]
    },
    {
      "cell_type": "markdown",
      "metadata": {
        "id": "T96vl09iFat-"
      },
      "source": [
        "***Epilson Greedy Q-Learning Algorithm*** will be utilised which essentially selects the action with the highest estimated reward most of the time. It aims to achieve a balance between ***exploration (randomness -> epsilon)*** and ***exploitation (maximisation -> greedy)***. \n"
      ]
    },
    {
      "cell_type": "markdown",
      "metadata": {
        "id": "Y-xfbYzVKLBs"
      },
      "source": [
        "###**1. Q-Table Initialisation**\n",
        "Arbitratily initialise the Q-Table.\n",
        "<br><br>\n",
        "After numerous attempts, we define the ***lower limit*** and ***upper limit*** for both **Cart Velocity** and **Pole Angular Velocity** to be **-4** and **4** respectively, because if the velocity is too high, the pole is likely to fall."
      ]
    },
    {
      "cell_type": "code",
      "execution_count": 4,
      "metadata": {
        "id": "PvxDfTHOE-II"
      },
      "outputs": [],
      "source": [
        "def Qtable(stateSpace, actionSpace, binSize):\n",
        "    \n",
        "  #bin = number of possible states per catagory\n",
        "  #np.linspace(start, end, num), create array with Num elements with equal interval between start to end\n",
        "       \n",
        "  bin = [np.linspace(-4.8, 4.8, binSize), # Cart Position Observation Space\n",
        "            np.linspace(-4, 4, binSize), # Cart Velocity Observation Space\n",
        "            np.linspace(-0.418, 0.418, binSize), # Pole Angle Observation Space\n",
        "            np.linspace(-4, 4, binSize)] # Pole Angular Velocity Observation Space\n",
        "\n",
        "  # Initialise Qtable\n",
        "  # np.random.uniform is used to obtain random values from a uniform distribution between -1 and 1  \n",
        "  qTable = np.random.uniform(-1, 1, ([binSize] * stateSpace + [actionSpace])) # 5d array\n",
        "  return qTable, bin"
      ]
    },
    {
      "cell_type": "markdown",
      "metadata": {
        "id": "J8YuZGeRKso9"
      },
      "source": [
        "###**2. Discretisation Function**\n",
        "We require our states to be in ***discrete*** format so that we can plug them into our Q-learning algorithm, i.e. access the table in the form of index, starting from 0. Thus, a discretisation function is implemented for this purpose."
      ]
    },
    {
      "cell_type": "code",
      "execution_count": 5,
      "metadata": {
        "id": "9vOK1A1XI-54"
      },
      "outputs": [],
      "source": [
        "def Discrete(state, bins):\n",
        "    digitizedArray = []\n",
        "    for i in range(len(state)): digitizedArray.append(np.digitize(state[i], bins[i]) - 1) # digitize into diff \"segments\", -1 to let it start from 0\n",
        "    return tuple(digitizedArray)"
      ]
    },
    {
      "cell_type": "markdown",
      "metadata": {
        "id": "pOxWjBUEWDc2"
      },
      "source": [
        "###**3. Epsilon-Greedy Q-Learning Algorithm**\n",
        "$$\\underbrace{Q_{new}(S_{t},A_{t})}_{\\scriptstyle\\text{New Estimation}}=Q_{old}(S_{t},A_{t})+\\mkern-34mu\\underset{\\text{Learning rate}}{\\underset{\\Bigl|}{\\alpha}}\\mkern-30mu[\\underbrace{R_{t+1}}_{\\scriptstyle\\text{Reward}}+\\mkern-30mu\\underset{\\text{Discount rate}}{\\underset{\\Biggl|}{\\gamma}}\\mkern-75mu\\overbrace{\\max Q_{old}(S_{t+1},a)}^{\\scriptstyle\\substack{\\text{Maximum predicted reward, given new state}}}\\mkern-45mu-Q_{old}(S_{t},A_{t})]$$\n",
        "\n",
        "Reference: Lecture notes from Module 5"
      ]
    },
    {
      "cell_type": "markdown",
      "source": [
        "### ***3.1. Q-Table***\n",
        "We create and fill a table (Q-table / Q) storing state-action pairs. Using the above formula, possible values of state-action pairs are calculated iteratively. This formula is called the action-value function / Q-function. The function approximates the value of selecting a certain action in a certain state. In this case, Q is the action value function learned by the algorithm. Q approximates the optimal action-value function Q*. In the implementation above for Q-table initialisation, we create a Q-table containing arbitrary values. \n",
        "\n",
        "### ***3.2. For each step in each episode, calculate Q-value and update Q-table***\n",
        "In the QLearning function defined below, we then proceed by following all the steps of episodes. In each step, we select an action A from Q-table Q. Episilon-Greedy selection is applied here which will be elaborated in the following section. As we take action A, our state changes from S to S' and we obtain a reward R. We then utilise these values to update our Q-table entry. This process is repeated till we have iterated through all the episodes defined (30,000)\n",
        "\n",
        "### ***3.3. Epsilon-Greedy Action Selection***\n",
        "The epsilon-greedy approach selects the action with the highest estimated reward most of the time. The aim is to strike a balance between exploration and exploitation. Exploration allows us to have some room to try new things (sometimes contradicting what we have already learned) The epsilon value controls the degree of exploration i.e larger epsilon value, higher degree of exploration while smaller epsilon value, lower degree of exploration. In the implementation, the optimal action (action with highest Q-value) is usually selected, else the algorithm explores a random action.\n",
        "\n",
        "### ***3.4. Why Epsilon-Greedy?***\n",
        "The epsilon-greedy algorithm is easy to understand and implement, yet it is hard to beat and works as well as more sophisticated algorithms. \n",
        "\n",
        "Reference: https://www.baeldung.com/cs/epsilon-greedy-q-learning\n",
        "\n",
        "### ***3.5. Epsilon-Decay***\n",
        "This method involves decaying the value of epsilon across the life of an agent to have it learn and act optimally eventually. We can do this by setting the initial epsilon value to 1, and multiplying the epsilon value by a real value (0 < decay_value < 1). This results in a gradual decay in epsilon with more and more episodes. However, after multiple rounds of testing, although epsilon-decay gives us a more stable reward accross multiple attempts, it has not shown to be useful in improving the reward score and we have decided to exclude it from the algorithm.\n",
        "\n",
        "Reference: https://aakash94.github.io/Reward-Based-Epsilon-Decay/\n",
        "\n",
        "### ***3.6. Penalty Function*** ###\n",
        "As our goal for the cart in an episode is to reach the cumulative score as close to 500 as possible, we introduce a ***Penalty function*** instead of pure Reward method in our Q learning algorithm such that whenever the agent makes a mistake, it will receive a penalty. In this context, we penalize ***(negative reward)*** the machine at the state which a bad move was taken, leading to the ***termination state with score lower than 450***. This way, we can better guide our goal-based agent's learning process closer to achieving higher total cumulative score during implementation.\n",
        "\n",
        "### ***3.7. How did we select the values for parameters?*** ###\n",
        "We've experimented with different values for ***the number of episodes***, range for ***cart velocity*** and ***pole angular velocity***, ***epsilon value*** as well as ***bin value***.\n",
        "\n",
        "Among all ***the number of episodes*** that we've tried, ranging from *10000* to *100000*, we've decided to choose **30000**, where the outcome is sufficiently good and the time taken to train the algorithm is not too long.\n",
        "\n",
        "Instead of using the value given in the lecture, we noticed that by slightly reducing the ***epsilon value*** to **0.15**, we will able to achieve a higher total reward across all episodes.\n",
        "\n",
        "Other than that, we've tried different ***bin values***, ranging from *15* to *80*. However, **30** seems to give us the optimal value most of the time. When the ***bin value*** is low, the model's accuracy is reduced due to the continuous nature of state values; when the ***bin value*** is high, we have to increase the number of episodes to maintain a good result since there are more entries in the Q table, which is not feasible due to the extended time required to complete the process.\n",
        "\n",
        "Furthermore, for the values in our Penalty Function, we tried several ***penalty values*** and found out that ***-1e6*** gives the best result as it does not over or under penalize our machine whenever a mistake action was taken. As for the ***treshold score***, after discussions and attempts, ***450*** is found most reasonable so our agent is neither too bias in achieving perfect scores every time nor achieving low scores due to randomness of ***epsilon value***"
      ],
      "metadata": {
        "id": "FIe5gayqGWOl"
      }
    },
    {
      "cell_type": "code",
      "execution_count": 6,
      "metadata": {
        "id": "X-3klmoeJA7_"
      },
      "outputs": [],
      "source": [
        "def QLearning(Qtable, bins):\n",
        "  totalEpisodes = 30000\n",
        "\n",
        "  # Discount Factor (gamma) reflects the importance of immediate vs future rewards\n",
        "  gamma = 0.95\n",
        "\n",
        "  # Learning Rate (lr) is the size of the step we take in adjusting our actions\n",
        "  lr = 0.1\n",
        "\n",
        "  # Epsilon here is associated with how random the decision is\n",
        "  epsilon = 0.15\n",
        "\n",
        "  # The epsilon value is decaying, eventually the policy will be stabilized\n",
        "  # epsilon_decay_value = 0.9996\n",
        "    \n",
        "  for episode in range(0, totalEpisodes): # run for XXXXXX times\n",
        "    currentState = Discrete(env.reset(), bins)\n",
        "\n",
        "    score = 0 #Score stores the total rewards in each episode \n",
        "    done = False\n",
        "    while not done:\n",
        "      if np.random.uniform(0, 1) < epsilon: # (< epsilon) Exploration: some random action\n",
        "        action = env.action_space.sample()\n",
        "      else: # (> epsilon) Exploitation: finding the largest reward\n",
        "        action = np.argmax(Qtable[currentState]) # Choose the action(indicated by index) of Qtable[currentState], Qtable[currentState] is a 1D array with 2 elements (which are the Q Value of taking action 0 or 1 at that state respectively)\n",
        "\n",
        "      observation, reward, done, info = env.step(action) # done = true, means the entire episode is complete; else episode is incomplete\n",
        "      nextState = Discrete(observation, bins) # Discritize the nextState\n",
        "      \n",
        "      score += reward #Add the reward to the cumulative reward score\n",
        "\t\t\n",
        "      if (done and score < 450) or not done: #If the entire episode is not finished or the episode ends too early\n",
        "        maxFutureQ = np.max(Qtable[nextState]) #Obtain the maximum Q-value for next state among different actions\n",
        "        currentQ = Qtable[currentState + (action,)] #Obtain the current Q-value\n",
        "        \n",
        "        if (done and score < 450): #Penalise if ends earlier without achieving satisfactory reward\n",
        "          reward = -1e6\n",
        "\n",
        "        newQ = currentQ + lr * (reward + gamma * maxFutureQ - currentQ) #Calculate the new Q-value\n",
        "        Qtable[currentState + (action,)] = newQ #Update the Q-value, by accessing table using tuple of 5 items\n",
        "        currentState = nextState #Update the state\n",
        "\n",
        "    #Printing function to better understand the training process\n",
        "    if (episode % 1000 == 0 and episode >= 5000):\n",
        "      print(\"Reward of\", episode, \"is :\", score)\n",
        "\n",
        "    # Epsilon value starts to decay after 5000 episode, and we let the minimum value of epsilon be 0.10\n",
        "    # if epsilon > 0.10: \n",
        "      # if episode > 5000:\n",
        "        # epsilon = math.pow(epsilon_decay_value, episode - 5000)\n",
        "  "
      ]
    },
    {
      "cell_type": "markdown",
      "metadata": {
        "id": "4O-3NH9WwLW5"
      },
      "source": [
        "###**4. Functions to save Q-table**\n",
        "Despite performing 20 attempts using the parameters above, which took us around 4 hours, we managed to obtain good results most of the time (***average rewards > 470***) using our agent. \n",
        "<br><br>However, there were 2 attempts where the result was relatively low (***average rewards ~ 400***), possibly due to the element of randomness in our agent. \n",
        "<br><br>\n",
        "To ensure consistency and prevent the lengthy training phase, instead of training the agent using more episodes everytime we run the algorithm, we decided to store the optimal Q-table we tried, using the function below.\n"
      ]
    },
    {
      "cell_type": "code",
      "execution_count": 7,
      "metadata": {
        "id": "yWxMxXSHPKd8"
      },
      "outputs": [],
      "source": [
        "def SaveQTable(tqt): #Function to store the Q-table in 'QTable_1'\n",
        "  np.save('QTable_1', tqt)\n",
        "  \n",
        "def SaveBin(tb):  #Function to store the bin table in 'Bin_1'\n",
        "  np.save('Bin_1', tb)"
      ]
    },
    {
      "cell_type": "markdown",
      "metadata": {
        "id": "T6YuKPhdJdRU"
      },
      "source": [
        "### **5. Training Phase**\n",
        "We created a Q-table for the algorithm to store the Q-values, and run the algorithm. \n",
        "<br><br>\n",
        "If the Q-table already exist, we will simply fetch the Q-table without retraining the agent again; else, we train the Q-table"
      ]
    },
    {
      "cell_type": "code",
      "execution_count": 8,
      "metadata": {
        "id": "Td5J-RLOJe9k"
      },
      "outputs": [],
      "source": [
        "import os.path\n",
        "\n",
        "# Check if data exists (Return True or False)\n",
        "bin_exists = os.path.exists('Bin_1.npy')\n",
        "qtable_exists = os.path.exists('QTable_1.npy')\n",
        "\n",
        "if bin_exists and qtable_exists:\n",
        "  # If data exists then run Q-Learning algorithm using the data saved\n",
        "  tb = np.load('Bin_1.npy') # Retrieve the Bin table from Bin_1.npy\n",
        "  tqt = np.load('QTable_1.npy') # Retrieve the QTable from QTable.npy\n",
        "\n",
        "else:\n",
        "  # If data doesn't exists then generate Q-table and save the respective data\n",
        "  tqt, tb = Qtable(4, 2, 30) #Randomly generate QTable and binTable\n",
        "  QLearning(tqt, tb) # Train the agent\n",
        "  SaveQTable(tqt) # Save QTable after training\n",
        "  SaveBin(tb) # Save Bin table after training"
      ]
    },
    {
      "cell_type": "markdown",
      "source": [
        "###**6. Demonstrate correctness**\n",
        "We demonstrate the correctness of the agent by sampling a random state from the cart pole environment, inputting to the agent, and outputting a chosen action. The values of state and chosen action is printed in the form of a 1D array with the index ([0],[1]) as the actions and the corresponding values as the Q-values of the action-state. "
      ],
      "metadata": {
        "id": "rEPT5NPGxjaQ"
      }
    },
    {
      "cell_type": "code",
      "execution_count": 9,
      "metadata": {
        "id": "5q46lqxU3xu6",
        "colab": {
          "base_uri": "https://localhost:8080/"
        },
        "outputId": "399286b7-9341-42fb-c587-2b6616bc0e65"
      },
      "outputs": [
        {
          "output_type": "stream",
          "name": "stdout",
          "text": [
            "Observation: [0.02767077 0.04241885 0.00861446 0.02058246]\n",
            "Chosen action: 0\n"
          ]
        },
        {
          "output_type": "execute_result",
          "data": {
            "text/plain": [
              "array([19.98746547, 19.98739527])"
            ]
          },
          "metadata": {},
          "execution_count": 9
        }
      ],
      "source": [
        "observation = env.reset() #Reset the environment and obtain the state\n",
        "currentState = Discrete(observation, tb) #Discretize the state\n",
        "action = np.argmax(tqt[currentState]) #Obtain the optimal action\n",
        "print(\"Observation:\", observation)\n",
        "print(\"Chosen action:\", action)\n",
        "tqt[currentState] #Get the Q values (based on observation space) of the current state, resulting Q values are the Q value if action 0 or 1 is taken in the current state."
      ]
    },
    {
      "cell_type": "markdown",
      "source": [
        "**Analyze output** <br>\n",
        "The action that will result in higher reward (Q-value) is chosen by the agent. The decision of our agent is correct."
      ],
      "metadata": {
        "id": "hRf6NtArzYK3"
      }
    },
    {
      "cell_type": "markdown",
      "metadata": {
        "id": "AS7HQhx7KPWx"
      },
      "source": [
        "<div class=\"alert alert-block alert-info\"><h2>Task 2: Demonstrate the effectiveness of the RL agent</h2></div>"
      ]
    },
    {
      "cell_type": "markdown",
      "source": [
        "The first function *run_episode()* is to run one epsiode and return the cumulative reward obtained in that episode. \n",
        "<br><br>\n",
        "The second function *generate_results(size)* is to store the total cumulative reward from different episode ( a total of *size* episodes) into an array. That array will be returned by the function (which will be used for graph plotting) ."
      ],
      "metadata": {
        "id": "DuvrJJNZZn0e"
      }
    },
    {
      "cell_type": "code",
      "execution_count": 10,
      "metadata": {
        "id": "BkFtphI3KRte"
      },
      "outputs": [],
      "source": [
        "def run_episode(): #Run one episode\n",
        "  done = False\n",
        "  env = gym.make(\"CartPole-v1\")\n",
        "  currentState = Discrete(env.reset(), tb) #Discretize the initial state\n",
        "  cum_score = 0\n",
        "  while not done:\n",
        "    action = np.argmax(tqt[currentState]) #Exploitation: Get action that cause the current state to have maximum Q-Value\n",
        "    observation, reward, done, info = env.step(action) #Perform the action and obtain the relevant information\n",
        "    currentState = Discrete(observation, tb) #Discretize the state\n",
        "    cum_score += reward #Add reward to cumulative reward in every step \n",
        "\n",
        "  return cum_score #Return the cumulative reward for this episode"
      ]
    },
    {
      "cell_type": "code",
      "execution_count": 11,
      "metadata": {
        "id": "DlFfMNo7KUdA"
      },
      "outputs": [],
      "source": [
        "def generate_results(size): #Run \"size\" times of episode and store the cumulative reward into an array\n",
        "    scoreArrayOfEachEpisode = []\n",
        "    for i in range(size): \n",
        "      scoreArrayOfEachEpisode.append(run_episode()) #Add the cumulative reward into the array\n",
        "    return scoreArrayOfEachEpisode #Return the array"
      ]
    },
    {
      "cell_type": "markdown",
      "metadata": {
        "id": "L8QGBQqXKaad"
      },
      "source": [
        "## Plot\n",
        "For this task, we generated 100 eopisodes and save the cumulative rewards in *episode_results*. We then plot *episode_results* on a graph to analyze our agent's average performance."
      ]
    },
    {
      "cell_type": "code",
      "execution_count": 12,
      "metadata": {
        "id": "GCeZeHZjKbgS",
        "colab": {
          "base_uri": "https://localhost:8080/",
          "height": 350
        },
        "outputId": "a074d3e8-3d3a-47e1-9673-3db0c3747127"
      },
      "outputs": [
        {
          "output_type": "stream",
          "name": "stderr",
          "text": [
            "/usr/local/lib/python3.9/dist-packages/gym/utils/passive_env_checker.py:241: DeprecationWarning: `np.bool8` is a deprecated alias for `np.bool_`.  (Deprecated NumPy 1.24)\n",
            "  if not isinstance(terminated, (bool, np.bool8)):\n"
          ]
        },
        {
          "output_type": "display_data",
          "data": {
            "text/plain": [
              "<Figure size 432x288 with 1 Axes>"
            ],
            "image/png": "[encoded data removed]"
          },
          "metadata": {
            "needs_background": "light"
          }
        }
      ],
      "source": [
        "episode_results = generate_results(100) #Generate results for 100 episodes\n",
        "plt.plot(episode_results)\n",
        "plt.title('Cumulative reward for each episode')\n",
        "plt.ylabel('Cumulative reward')\n",
        "plt.xlabel('episode')\n",
        "plt.show()"
      ]
    },
    {
      "cell_type": "code",
      "execution_count": 13,
      "metadata": {
        "id": "idPqjC9lKfW7",
        "colab": {
          "base_uri": "https://localhost:8080/"
        },
        "outputId": "6dfb0224-8907-43f2-9ba6-4893c924cdfc"
      },
      "outputs": [
        {
          "output_type": "stream",
          "name": "stdout",
          "text": [
            "Average cumulative reward: 500.0\n",
            "Is my agent good enough? True\n"
          ]
        }
      ],
      "source": [
        "mean = np.mean(episode_results) #Calculate mean cumulative reward\n",
        "print(\"Average cumulative reward:\", mean)\n",
        "print(\"Is my agent good enough?\", mean> 195)"
      ]
    },
    {
      "cell_type": "markdown",
      "source": [
        "### **Analyze output**\n",
        "Graph of Cumulative Reward aginst Episodes shows some variation with\n",
        "some low cumulative rewards while majority attained 500 points(maximum cumulative reward). \n",
        "<br><br>\n",
        "This result could be due to the randomness of the starting state."
      ],
      "metadata": {
        "id": "IxoSqeNUzR8V"
      }
    },
    {
      "cell_type": "markdown",
      "metadata": {
        "id": "BuuEhhDtKm36"
      },
      "source": [
        "<div class=\"alert alert-block alert-info\"><h2>Task 3: Render one episode played by the agent</h2></div>"
      ]
    },
    {
      "cell_type": "markdown",
      "source": [
        "One episode played by the developed Q-Learning agent is rendered"
      ],
      "metadata": {
        "id": "p11R_5FkyTRD"
      }
    },
    {
      "cell_type": "code",
      "execution_count": 14,
      "metadata": {
        "id": "fwEUYVElKoSt",
        "colab": {
          "base_uri": "https://localhost:8080/",
          "height": 494
        },
        "outputId": "398cc10a-4828-4c25-b9f1-d19dcab4bb74"
      },
      "outputs": [
        {
          "output_type": "stream",
          "name": "stderr",
          "text": [
            "/usr/local/lib/python3.9/dist-packages/gym/utils/passive_env_checker.py:241: DeprecationWarning: `np.bool8` is a deprecated alias for `np.bool_`.  (Deprecated NumPy 1.24)\n",
            "  if not isinstance(terminated, (bool, np.bool8)):\n"
          ]
        },
        {
          "output_type": "stream",
          "name": "stdout",
          "text": [
            "Cumulative Score =  500.0\n"
          ]
        },
        {
          "output_type": "display_data",
          "data": {
            "text/plain": [
              "<IPython.core.display.HTML object>"
            ],
            "text/html": [
              "<video alt=\"test\" autoplay \n",
              "                loop controls style=\"height: 400px;\">\n",
              "                <source src=\"data:video/mp4;base64,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\" type=\"video/mp4\" />\n",
              "             </video>"
            ]
          },
          "metadata": {}
        }
      ],
      "source": [
        "done = False\n",
        "env = RecordVideo(gym.make(\"CartPole-v1\", new_step_api=True), \"./video\")\n",
        "currentState = Discrete(env.reset(), tb)\n",
        "cum_score = 0\n",
        "while not done: \n",
        "  env.render()\n",
        "  action = np.argmax(tqt[currentState]) #Exploitation: Get optimal action that results in maximum Q-Value\n",
        "  observation, reward, done, info = env.step(action) #Plug in the action to the agent\n",
        "  currentState = Discrete(observation,tb) #Discretize the state\n",
        "  cum_score += reward #Add reward to cumulative score in every step \n",
        "print(\"Cumulative Score = \", cum_score) #Print out the cumulative score\n",
        "env.close()\n",
        "show_video() #Display the video"
      ]
    },
    {
      "cell_type": "markdown",
      "source": [
        "### **Analyze output**\n",
        "As expected, the output is very good since we obtained close to the maximum score. \n",
        "\n",
        "The agent successfully balanced the pole, maintained its position to avoid ending the episode early, and survived for 500 episodes by selecting the correct actions."
      ],
      "metadata": {
        "id": "nFqz72pdzaeS"
      }
    }
  ],
  "metadata": {
    "colab": {
      "provenance": []
    },
    "kernelspec": {
      "display_name": "Python 3",
      "name": "python3"
    },
    "language_info": {
      "name": "python"
    },
    "accelerator": "TPU",
    "gpuClass": "standard"
  },
  "nbformat": 4,
  "nbformat_minor": 0
}